{
 "cells": [
  {
   "cell_type": "code",
   "execution_count": 1,
   "metadata": {
    "scrolled": true,
    "slideshow": {
     "slide_type": "skip"
    }
   },
   "outputs": [
    {
     "data": {
      "text/html": [
       "<script>  \n",
       "code_show=true; \n",
       "function code_toggle() {\n",
       "  if (code_show){\n",
       "    $('div.input').hide();\n",
       "  } else {\n",
       "    $('div.input').show();\n",
       "  }\n",
       "  code_show = !code_show\n",
       "}  \n",
       "$( document ).ready(code_toggle);\n",
       "</script>\n",
       "  <form action=\"javascript:code_toggle()\">\n",
       "    <input type=\"submit\" value=\"Click here to toggle on/off the raw code.\">\n",
       " </form>"
      ]
     },
     "metadata": {},
     "output_type": "display_data"
    }
   ],
   "source": [
    "library(IRdisplay)\n",
    "\n",
    "display_html(\n",
    "'<script>  \n",
    "code_show=true; \n",
    "function code_toggle() {\n",
    "  if (code_show){\n",
    "    $(\\'div.input\\').hide();\n",
    "  } else {\n",
    "    $(\\'div.input\\').show();\n",
    "  }\n",
    "  code_show = !code_show\n",
    "}  \n",
    "$( document ).ready(code_toggle);\n",
    "</script>\n",
    "  <form action=\"javascript:code_toggle()\">\n",
    "    <input type=\"submit\" value=\"Click here to toggle on/off the raw code.\">\n",
    " </form>'\n",
    ")"
   ]
  },
  {
   "cell_type": "markdown",
   "metadata": {
    "slideshow": {
     "slide_type": "slide"
    }
   },
   "source": [
    "## 1. Introduction\n",
    "\n",
    "In general, we conduct the analysis based on the principle of simplicity, accuracy, robustness and scalability. For simplicity, we tend to include no more than 4 variables as predictors so that the potential users only need to input 3-4 measurements into the “calculator” we built. For accuracy, we aimed at approaching the given value and improving the goodness of fit as much as possible. Robustness means if measurements are jittering, the change in predicted value should be controlled within a limited range. In consideration of scalability, the first thing comes to our mind is to eliminate the units of circumferences in the predictors so that we can easily extend our method globally no matter what kind of units and tools the users use to measure circumference."
   ]
  },
  {
   "cell_type": "markdown",
   "metadata": {
    "slideshow": {
     "slide_type": "slide"
    }
   },
   "source": [
    "## 2. Background information\n",
    "\n",
    "First, looking at the data we noticed that it’s a data frame containing 1 predicted variables BODYFAT and  14 possible predictors with 252 observations(except column 1 and column 3). Based on background reading as well as our common sense of daily life，we could pick up some “more likely” predictors intuitively such as CHEST, ABDOMEN, HIP, etc. On the other hand, we guess the variables in terms of bones and joints such as WRIST, FOREARM,  ANKLE, etc. might not make a big difference. Also, by checking the formulation of BMI calculation we noticed that BMI have included all the information of weight and height, which indicates that instead of using both weight and height, we could merely introduce BMI into our predictors to represent them without much loss of information. "
   ]
  },
  {
   "cell_type": "markdown",
   "metadata": {
    "slideshow": {
     "slide_type": "slide"
    }
   },
   "source": [
    "## 3. Exploratory Analysis\n",
    "\n",
    "Next, we start looking at “big picture” of general patterns about the  measurements by visualizing the data with histograms, scatterplots, and boxplots. We did find something interesting. \n",
    "1.  Two outliers are detected by looking at  subsets of the data. In the “skinny” subset, we found one individual with 0 BODYFAT. By rechecking its DENSITY we remove this points since the value of BODYFAT must be non-negative. In the “overweight” subset, we observed one individual with BODYFAT which is too low to correspond to his large weight.(outliers)\n",
    "2. Among all these possible predictors, WRIST has the lowest variance, which indicates that WRIST would be a good candidate to divide all the other circumference variables for the purpose of eliminating units. In other words, instead of using the circumference directly we use the ratio of them against WRIST.(variance)\n",
    "3. Among all these possible predictors,  ABDOMEN is the most correlated predictor with BODYFAT, indicating that it’s likely to be the most significant predictor.(correlation)\n",
    "Based on the first two findings above, we update our data frame by removing 2 outliers and divide all other circumference by WRIST.\n"
   ]
  },
  {
   "cell_type": "markdown",
   "metadata": {
    "slideshow": {
     "slide_type": "slide"
    }
   },
   "source": [
    "## 4. Preliminary Analysis\n",
    "\n",
    "Usually, we tend to use Forward Stepwise Selection method to screen variables. However, the result shows that we end up keeping most variables including the AGE, BMI and ABDOMEN,…..etc.  Since the BMI and ABDOMEN are the most desired predictors as we mentioned above, we try to fit a simpler model including only 3 predictors, i.e. AGE, BMI and ABDOMEN.\n",
    "\n",
    "Ratio representation does inspire us to directly do a simple linear regression as bodyfat can be considered as a non-unit value. To start with, we apply naïve forward selection, evaluate its performance and provide initial results to support further investigation in light of our thought."
   ]
  },
  {
   "cell_type": "code",
   "execution_count": 29,
   "metadata": {
    "slideshow": {
     "slide_type": "skip"
    }
   },
   "outputs": [],
   "source": [
    "# Read library\n",
    "library(ggplot2)\n",
    "library(dplyr)\n",
    "# Read data\n",
    "bodyfat <- read.csv(\"BodyFat.csv\")"
   ]
  },
  {
   "cell_type": "code",
   "execution_count": 30,
   "metadata": {
    "scrolled": true,
    "slideshow": {
     "slide_type": "skip"
    }
   },
   "outputs": [],
   "source": [
    "options(repr.plot.width=7.5, repr.plot.height=6)\n",
    "# Variance display\n",
    "body_cir <- bodyfat[, c(8:17)]\n",
    "body_cirvar <- data.frame(\"Type\" = as.factor(colnames(body_cir)),\n",
    "                          \"Var\" = rep(0, length(c(8:17))))\n",
    "var_m <- cov(body_cir)\n",
    "for (i in 1:ncol(var_m)) {\n",
    "  body_cirvar[i, 2] <- var_m[i, i]\n",
    "}\n",
    "# ggplot(data = body_cirvar) + geom_point(aes(x = Type, y = Var, size = Var)) + \n",
    "#  labs(title = \"Variance of each circumference measurements\")"
   ]
  },
  {
   "cell_type": "code",
   "execution_count": 31,
   "metadata": {
    "slideshow": {
     "slide_type": "fragment"
    }
   },
   "outputs": [],
   "source": [
    "# Scale circumference data w.r.t wrist(least variance)\n",
    "bodyfat_m <- bodyfat\n",
    "target <- c(8:17)\n",
    "for (i in target) {\n",
    "  for (j in 1:nrow(bodyfat)) {\n",
    "    bodyfat_m[j, i] <- bodyfat_m[j, i]/bodyfat_m[j, 17]\n",
    "  }\n",
    "}\n",
    "\n",
    "# Eliminate error data\n",
    "# Delete 0 bodyfat, unreasonable records\n",
    "bodyfat_m <- bodyfat_m[-c(39, 182),]"
   ]
  },
  {
   "cell_type": "code",
   "execution_count": 32,
   "metadata": {
    "slideshow": {
     "slide_type": "fragment"
    }
   },
   "outputs": [
    {
     "data": {
      "text/plain": [
       "lm(formula = BODYFAT ~ ABDOMEN + HIP + ADIPOSITY + CHEST + AGE + \n",
       "    NECK + FOREARM, data = bodyfat_n)"
      ]
     },
     "metadata": {},
     "output_type": "display_data"
    }
   ],
   "source": [
    "# Examining linear model\n",
    "# Extract concerned parameters\n",
    "bodyfat_n <- bodyfat_m[, -c(1, 3, 5, 6, 17)]\n",
    "# Create naive empty and full models\n",
    "body_null <- lm(BODYFAT ~ 1, data = bodyfat_n)\n",
    "body_full <- lm(BODYFAT ~ ., data = bodyfat_n)\n",
    "# Simple forward selection \n",
    "# step(body_null, scope = list(lower = body_null, upper = body_full), direction = \"forward\", trace = 0)\n",
    "\n",
    "# Forward results\n",
    "body_f <- lm(BODYFAT ~ ABDOMEN + HIP + ADIPOSITY + CHEST + AGE + NECK + FOREARM, data = bodyfat_n)\n",
    "# Ideal model based on prior information & reasonable derivation\n",
    "body_t <- lm(BODYFAT ~ ABDOMEN + ADIPOSITY + AGE, data = bodyfat_n)\n",
    "# Print out selection model\n",
    "body_f$call"
   ]
  },
  {
   "cell_type": "markdown",
   "metadata": {
    "slideshow": {
     "slide_type": "slide"
    }
   },
   "source": [
    "It’s lucky and reasonable to see our targeted parameters are still remained in the selection process. Following our intuition, we truncate the model to be only involved with 3 key factors – waist, BMI as well as age serving as complementary factor. It turns out that the model highly corresponds to our common sense, which is safe in the first step. "
   ]
  },
  {
   "cell_type": "code",
   "execution_count": 33,
   "metadata": {
    "slideshow": {
     "slide_type": "fragment"
    }
   },
   "outputs": [
    {
     "data": {
      "text/plain": [
       "\n",
       "Call:\n",
       "lm(formula = BODYFAT ~ ABDOMEN + ADIPOSITY + AGE, data = bodyfat_n)\n",
       "\n",
       "Residuals:\n",
       "   Min     1Q Median     3Q    Max \n",
       "-9.933 -2.874 -0.301  2.794  9.606 \n",
       "\n",
       "Coefficients:\n",
       "             Estimate Std. Error t value Pr(>|t|)    \n",
       "(Intercept) -50.82894    2.88024 -17.647  < 2e-16 ***\n",
       "ABDOMEN       9.94582    0.89116  11.161  < 2e-16 ***\n",
       "ADIPOSITY     0.59870    0.12190   4.912 1.65e-06 ***\n",
       "AGE           0.09325    0.02034   4.585 7.23e-06 ***\n",
       "---\n",
       "Signif. codes:  0 '***' 0.001 '**' 0.01 '*' 0.05 '.' 0.1 ' ' 1\n",
       "\n",
       "Residual standard error: 3.997 on 246 degrees of freedom\n",
       "Multiple R-squared:  0.7289,\tAdjusted R-squared:  0.7256 \n",
       "F-statistic: 220.5 on 3 and 246 DF,  p-value: < 2.2e-16\n"
      ]
     },
     "metadata": {},
     "output_type": "display_data"
    }
   ],
   "source": [
    "# Print out model summary\n",
    "summary(body_t)"
   ]
  },
  {
   "cell_type": "markdown",
   "metadata": {
    "slideshow": {
     "slide_type": "slide"
    }
   },
   "source": [
    "Besides, residuals are also distributed as a normal distribution with constant variance as our assumption. All four diagnostic plots look perfect except that the range of residuals are a little bit large."
   ]
  },
  {
   "cell_type": "code",
   "execution_count": 34,
   "metadata": {
    "slideshow": {
     "slide_type": "subslide"
    }
   },
   "outputs": [
    {
     "data": {
      "image/png": "[encoded data removed]",
      "text/plain": [
       "Plot with title \"\""
      ]
     },
     "metadata": {},
     "output_type": "display_data"
    }
   ],
   "source": [
    "options(repr.plot.width=7.5, repr.plot.height=6)\n",
    "# Model diagnosis\n",
    "par(mfrow = c(2, 2))\n",
    "# Naive diagnosis\n",
    "#plot(body_f)\n",
    "plot(body_t)\n",
    "layout(1)"
   ]
  },
  {
   "cell_type": "markdown",
   "metadata": {
    "slideshow": {
     "slide_type": "slide"
    }
   },
   "source": [
    "However, it's still acceptable if you consider quantiles.The majority lies within -3 to 3, which serves as strong evidence that our model is still comprehensive and effective under common circumstance."
   ]
  },
  {
   "cell_type": "code",
   "execution_count": 35,
   "metadata": {
    "slideshow": {
     "slide_type": "subslide"
    }
   },
   "outputs": [
    {
     "data": {
      "text/plain": [
       "   Min. 1st Qu.  Median    Mean 3rd Qu.    Max. \n",
       " -9.933  -2.874  -0.301   0.000   2.794   9.606 "
      ]
     },
     "metadata": {},
     "output_type": "display_data"
    }
   ],
   "source": [
    "# Residuals intervals\n",
    "summary(body_t$residuals)"
   ]
  },
  {
   "cell_type": "markdown",
   "metadata": {
    "slideshow": {
     "slide_type": "slide"
    }
   },
   "source": [
    "Within all analysis above, one interesting thing is values of adjusted-R^2 are relatively low throughout the whole process. This might be caused by the essence of this model. Bodyfat is a proportion while predictors are something without unit which seems strange to some extent. For further improvement, we construct a tricky model using physical body structure in the following content."
   ]
  },
  {
   "cell_type": "markdown",
   "metadata": {
    "slideshow": {
     "slide_type": "slide"
    }
   },
   "source": [
    "## 5. Further Investigation\n",
    "### 5.1 Body Volume\n",
    "\n",
    "Starting from the “Siri’s Equation”, we first tried to have a reasonable predict for body density, which is weight divided by volume. Since the weight is known, what is left is a prediction of body volume. If we assume that a human body is composed of cylinder and truncated cone, then it can be represented as a linear combination of the area of each cross section, which is proportional to the square of its circumference. Thus, we have the following linear regression\n",
    "\n",
    "$$Vol = {Weight/Density~}\\sim{Neck^2+Chest^2+Abdomen^2+Hip^2+Thigh^2+Knee^2+Ankle^2+Biceps^2+Forearm^2+Wrist^2}$$ \n",
    "\n",
    "And the result shows that almost all variables are significant.\n",
    "\n",
    "By correlation matrix as well as pairwise regression $R^2$ values, we finally seperate those parameters into 2 small groups with $Hip^2$ and $Forearm^2$ as their representatives. Linear model is truncated as: \n",
    "$${Weight/Density}\\sim{intercept+Hip^2+Forearm^2}$$\n",
    "\n",
    "### 5.2 Diagnostic"
   ]
  },
  {
   "cell_type": "code",
   "execution_count": 36,
   "metadata": {
    "slideshow": {
     "slide_type": "skip"
    }
   },
   "outputs": [],
   "source": [
    "data=read.table(\"Bodyfat.csv\",sep=\",\",header=T)\n",
    "# head(data)\n",
    "\n",
    "data_m2=data %>%\n",
    "  transmute(vol=WEIGHT/DENSITY,\n",
    "            age=AGE,\n",
    "            necksq=NECK^2,\n",
    "            chestsq=CHEST^2,\n",
    "            waistsq=ABDOMEN^2,\n",
    "            hipsq=HIP^2,\n",
    "            thighsq=THIGH^2,\n",
    "            kneesq=KNEE^2,\n",
    "            anklesq=ANKLE^2,\n",
    "            bicepsq=BICEPS^2,\n",
    "            forearmsq=FOREARM^2)\n",
    "data_m2=data_m2[-c(39,182),]"
   ]
  },
  {
   "cell_type": "code",
   "execution_count": 37,
   "metadata": {
    "slideshow": {
     "slide_type": "skip"
    }
   },
   "outputs": [],
   "source": [
    "fit=lm(vol~necksq+chestsq+waistsq+hipsq+thighsq+kneesq+anklesq+bicepsq+forearmsq,\n",
    "       data=data_m2)\n",
    "s = summary(fit)\n",
    "# s$coefficients"
   ]
  },
  {
   "cell_type": "code",
   "execution_count": 38,
   "metadata": {
    "slideshow": {
     "slide_type": "skip"
    }
   },
   "outputs": [],
   "source": [
    "# Correlation matrix\n",
    "# round(cor(data_m2[,3:11]),2)\n",
    "# Pairwise regression trials\n",
    "fit2=lm(vol~.,data=data_m2[,c(1,6,9)])\n",
    "s2=summary(fit2)\n",
    "#s2$coefficients\n",
    "#print(paste0(\"Ankle Rsq=\", s2$r.squared))\n",
    "\n",
    "fit3=lm(vol~.,data=data_m2[,c(1,6,10)])\n",
    "s3=summary(fit3)\n",
    "#s3$coefficients\n",
    "#print(paste0(\"Forearm Rsq=\", s3$r.squared))\n",
    "\n",
    "fit4=lm(vol~.,data=data_m2[,c(1,6,11)])\n",
    "s4=summary(fit4)\n",
    "#s4$coefficients\n",
    "#print(paste0(\"Biceq Rsq=\", s4$r.squared))"
   ]
  },
  {
   "cell_type": "code",
   "execution_count": 47,
   "metadata": {
    "slideshow": {
     "slide_type": "fragment"
    }
   },
   "outputs": [
    {
     "data": {
      "image/png": "[encoded data removed]",
      "text/plain": [
       "Plot with title \"\""
      ]
     },
     "metadata": {},
     "output_type": "display_data"
    }
   ],
   "source": [
    "options(repr.plot.width=8, repr.plot.height=3.5)\n",
    "fit4=lm(vol~.,data=data_m2[,c(1,6,11)])\n",
    "par(mfrow=c(1,2))\n",
    "plot(fit4,3)\n",
    "plot(fit4,4)"
   ]
  },
  {
   "cell_type": "code",
   "execution_count": 40,
   "metadata": {
    "slideshow": {
     "slide_type": "skip"
    }
   },
   "outputs": [],
   "source": [
    "#reset data set\n",
    "data_m2=data %>% \n",
    "  transmute(vol=WEIGHT/DENSITY,\n",
    "            age=AGE,\n",
    "            necksq=NECK^2,\n",
    "            chestsq=CHEST^2,\n",
    "            waistsq=ABDOMEN^2,\n",
    "            hipsq=HIP^2,\n",
    "            thighsq=THIGH^2,\n",
    "            kneesq=KNEE^2,\n",
    "            anklesq=ANKLE^2,\n",
    "            bicepsq=BICEPS^2,\n",
    "            forearmsq=FOREARM^2) \n",
    "\n",
    "\n",
    "data_m2=data_m2[-c(39,182,159,175,206),]\n",
    "fit4=lm(vol~.,data=data_m2[,c(1,6,11)])\n",
    "# s4=summary(fit4)\n",
    "# s4$coefficients\n",
    "# print(paste0(\"R squared =\", s4$r.squared))\n",
    "# options(repr.plot.width=7, repr.plot.height=6)\n",
    "# par(mfrow=c(2,2))\n",
    "# plot(fit4)\n",
    "vol_p=predict(fit4)"
   ]
  },
  {
   "cell_type": "markdown",
   "metadata": {
    "slideshow": {
     "slide_type": "slide"
    }
   },
   "source": [
    "Simple observations on diagnostic plots showed that 59 and 206 have large residuals and leverage values so that we delete them for better fitness of model. After appropriate modifications, we come out with: \n",
    "$$Vol=-41.43+0.01548Hip^2+0.06768Forearm^2, \\ Adj-R^2=0.898$$"
   ]
  },
  {
   "cell_type": "markdown",
   "metadata": {
    "slideshow": {
     "slide_type": "slide"
    }
   },
   "source": [
    "### 5.3 General Model\n",
    "\n",
    "After we get the predicted volume, we can also get the predicted density. However, in the “Siri’s Equation”, the density is on the denominator. This makes the result very sensitive to the prediction error. Luckily, the variance of density is very small, and in a small range, the inverse function can be treated as a straight line. Therefore, we can get a linear relationship \n",
    "$$BodyFat=-23.57\\hat{Density}+1.51BMI+0.13Age, \\ Adj-R^2=0.9378$$\n",
    "\n",
    "Considering all the mathematics equations above, it's quite convenient to simplify this model by plugging in the original parameters as well as regression equations we got before:\n",
    "$$BodyFat={-94.22081Forearm/Hip+1.6089BMI+0.1180Age}, \\ Adj-R^2=0.9464, \\ MSE=4.733$$"
   ]
  },
  {
   "cell_type": "code",
   "execution_count": 41,
   "metadata": {
    "slideshow": {
     "slide_type": "fragment"
    }
   },
   "outputs": [],
   "source": [
    "data_m2t=data[-c(39,182,159,175,206),] %>%\n",
    "  mutate(vol_p=vol_p,\n",
    "         den_p=WEIGHT/vol_p)\n",
    "#head(data_m2t)\n",
    "fit_fin=lm(BODYFAT~0+den_p+ADIPOSITY+AGE,data = data_m2t)\n",
    "# sfit=summary(fit_fin)\n",
    "# sfit$coefficients\n",
    "# print(paste0(\"R squared =\", sfit$r.squared))"
   ]
  },
  {
   "cell_type": "code",
   "execution_count": 42,
   "metadata": {
    "slideshow": {
     "slide_type": "skip"
    }
   },
   "outputs": [
    {
     "data": {
      "image/png": "[encoded data removed]",
      "text/plain": [
       "Plot with title \"\""
      ]
     },
     "metadata": {},
     "output_type": "display_data"
    }
   ],
   "source": [
    "data_m2s=data[-c(39,182,159,175,206),] %>%\n",
    "  transmute(bodyfat=BODYFAT,\n",
    "            base=mean(FOREARM),\n",
    "            hip=HIP/FOREARM,\n",
    "            hipsq=(HIP/FOREARM)^2,\n",
    "            weight=WEIGHT,\n",
    "            vol=WEIGHT/DENSITY,\n",
    "            BMI=ADIPOSITY,\n",
    "            age=AGE)\n",
    "# head(data_m2s)\n",
    "\n",
    "fit_s1=lm(vol~hipsq+0,data=data_m2s)\n",
    "sfit=summary(fit_s1)\n",
    "# sfit$coefficients\n",
    "vol_p=predict(fit_s1)\n",
    "\n",
    "fit_s2=lm(weight~hip+0,data=data_m2s)\n",
    "sfit2=summary(fit_s2)\n",
    "# sfit2$coefficients\n",
    "weight_p=predict(fit_s2)\n",
    "\n",
    "data_m2s=data_m2s %>%\n",
    "  mutate(den_p=weight_p/vol_p)\n",
    "fit_sfin=lm(bodyfat~0+den_p+BMI+age,data = data_m2s)\n",
    "sfin=summary(fit_sfin)\n",
    "# sfin\n",
    "# sfin$coefficients\n",
    "# print(paste0(\"R square = \", sfin$r.squared))\n",
    "# print(\"MSE = 4.733\")\n",
    "options(repr.plot.width=7, repr.plot.height=6)\n",
    "par(mfrow=c(2,2))\n",
    "plot(fit_sfin)"
   ]
  },
  {
   "cell_type": "markdown",
   "metadata": {
    "slideshow": {
     "slide_type": "slide"
    }
   },
   "source": [
    "### 5.4 Model Check and Conclusion\n",
    "\n",
    "As figure shows, the residual looks good, and the prediction seems reasonable. \n",
    "To make the model more simple, we alter the coefficients and get\n",
    "\n",
    "$$BodyFat\t=-95Forearm/Hip+1.5BMI+0.12Age$$\n",
    "\n",
    "**Possible rule of thumb**: \n",
    "1.Divide your forearm circumference by you hip circumference and get $A$.\n",
    "2.Calculate your BMI, which is $Weight(kg)/[Height(meter)]^2$, and get $B$.\n",
    "3.Multiply $A$ by $-95$, add $B$ and $0.15\\times{your\\text{ }Age}$ to it.\n",
    "\n",
    "**Example Usage**: for a recent college graduate (e.g. age 22), with hip circumference 96cm and forearm circumference 20cm, BMI 19, his predicted body fat % percentage would be around 14.35%. There is a 95% probability that his body fat is between 10.09% and 18.61%.\n",
    "\n",
    "**Inference about Relationship**: There is clearly a linear relationship between age and body fat % and this relationship is significant at the $\\alpha = 0.05$ level. And the model explains about 95% of all the variation in body fat %.\n",
    "Also, according to this model, every year, a male is expected to gain about 0.12% in body fat % if his maintain the same circumferences and BMI.\n",
    "\n",
    "**Strengths and Weakness of Model**: I think the model is a reasonable model between body fat % and age, despite some caveats.\n",
    "  1. It is scalable.\n",
    "  2. It gives accurate prediction.\n",
    "  3. It not very easy to calculate.\n",
    "  4. The range of the prediction error is large.\n",
    "\n",
    "Overall, our model provides an accurate way of guess-timating the body fat % purely based on age. In addition, when interpreting the SLR model, we note that most of the assumptions are met. However, it is not easy to calculate in mind. "
   ]
  },
  {
   "cell_type": "code",
   "execution_count": null,
   "metadata": {},
   "outputs": [],
   "source": []
  },
  {
   "cell_type": "markdown",
   "metadata": {
    "slideshow": {
     "slide_type": "slide"
    }
   },
   "source": [
    "## 6. Contribution\n",
    "\n",
    "**Jiashun Cheng:** Preliminary Analysis, all codes and images for non-unit model\n",
    "\n",
    "**Yishan Cai:** Introduction, Background Information, Exploratory Analysis, proposing ratio, correlation piechart, variance comparison plot\n",
    "\n",
    "**Yining Ding:** Further Analysis, all codes and images for physical related regression model"
   ]
  }
 ],
 "metadata": {
  "celltoolbar": "Slideshow",
  "kernelspec": {
   "display_name": "R",
   "language": "R",
   "name": "ir"
  },
  "language_info": {
   "codemirror_mode": "r",
   "file_extension": ".r",
   "mimetype": "text/x-r-source",
   "name": "R",
   "pygments_lexer": "r",
   "version": "3.4.3"
  }
 },
 "nbformat": 4,
 "nbformat_minor": 2
}
